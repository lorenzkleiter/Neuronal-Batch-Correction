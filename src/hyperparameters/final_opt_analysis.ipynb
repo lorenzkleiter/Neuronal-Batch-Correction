{
 "cells": [
  {
   "cell_type": "code",
   "execution_count": null,
   "metadata": {},
   "outputs": [
    {
     "data": {
      "text/html": [
       "<div>\n",
       "<style scoped>\n",
       "    .dataframe tbody tr th:only-of-type {\n",
       "        vertical-align: middle;\n",
       "    }\n",
       "\n",
       "    .dataframe tbody tr th {\n",
       "        vertical-align: top;\n",
       "    }\n",
       "\n",
       "    .dataframe thead th {\n",
       "        text-align: right;\n",
       "    }\n",
       "</style>\n",
       "<table border=\"1\" class=\"dataframe\">\n",
       "  <thead>\n",
       "    <tr style=\"text-align: right;\">\n",
       "      <th></th>\n",
       "      <th>epochs</th>\n",
       "      <th>batch_size</th>\n",
       "      <th>learning_rate</th>\n",
       "      <th>lambda_weight</th>\n",
       "      <th>loss_function</th>\n",
       "      <th>ari</th>\n",
       "      <th>hvg</th>\n",
       "      <th>asw</th>\n",
       "      <th>f1</th>\n",
       "      <th>nmi</th>\n",
       "      <th>sil</th>\n",
       "      <th>graph</th>\n",
       "      <th>pcr</th>\n",
       "      <th>sil_batch</th>\n",
       "      <th>avg_bio</th>\n",
       "      <th>avg_batch</th>\n",
       "    </tr>\n",
       "  </thead>\n",
       "  <tbody>\n",
       "    <tr>\n",
       "      <th>0</th>\n",
       "      <td>1</td>\n",
       "      <td>640</td>\n",
       "      <td>0.0001</td>\n",
       "      <td>0.2</td>\n",
       "      <td>uniform</td>\n",
       "      <td>0.447608</td>\n",
       "      <td>0.291125</td>\n",
       "      <td>0.670756</td>\n",
       "      <td>0.836957</td>\n",
       "      <td>0.730355</td>\n",
       "      <td>0.582232</td>\n",
       "      <td>0.829793</td>\n",
       "      <td>0.429228</td>\n",
       "      <td>0.835066</td>\n",
       "      <td>0.593172</td>\n",
       "      <td>0.698029</td>\n",
       "    </tr>\n",
       "    <tr>\n",
       "      <th>1</th>\n",
       "      <td>1</td>\n",
       "      <td>640</td>\n",
       "      <td>0.0001</td>\n",
       "      <td>0.8</td>\n",
       "      <td>uniform</td>\n",
       "      <td>0.447608</td>\n",
       "      <td>0.289500</td>\n",
       "      <td>0.671533</td>\n",
       "      <td>0.833787</td>\n",
       "      <td>0.730355</td>\n",
       "      <td>0.582787</td>\n",
       "      <td>0.829668</td>\n",
       "      <td>0.429975</td>\n",
       "      <td>0.835227</td>\n",
       "      <td>0.592595</td>\n",
       "      <td>0.698290</td>\n",
       "    </tr>\n",
       "  </tbody>\n",
       "</table>\n",
       "</div>"
      ],
      "text/plain": [
       "   epochs  batch_size  learning_rate  lambda_weight loss_function       ari  \\\n",
       "0       1         640         0.0001            0.2       uniform  0.447608   \n",
       "1       1         640         0.0001            0.8       uniform  0.447608   \n",
       "\n",
       "        hvg       asw        f1       nmi       sil     graph       pcr  \\\n",
       "0  0.291125  0.670756  0.836957  0.730355  0.582232  0.829793  0.429228   \n",
       "1  0.289500  0.671533  0.833787  0.730355  0.582787  0.829668  0.429975   \n",
       "\n",
       "   sil_batch   avg_bio  avg_batch  \n",
       "0   0.835066  0.593172   0.698029  \n",
       "1   0.835227  0.592595   0.698290  "
      ]
     },
     "execution_count": 23,
     "metadata": {},
     "output_type": "execute_result"
    },
    {
     "ename": "",
     "evalue": "",
     "output_type": "error",
     "traceback": [
      "\u001b[1;31mThe Kernel crashed while executing code in the current cell or a previous cell. \n",
      "\u001b[1;31mPlease review the code in the cell(s) to identify a possible cause of the failure. \n",
      "\u001b[1;31mClick <a href='https://aka.ms/vscodeJupyterKernelCrash'>here</a> for more info. \n",
      "\u001b[1;31mView Jupyter <a href='command:jupyter.viewOutput'>log</a> for further details."
     ]
    }
   ],
   "source": [
    "import pandas as pd\n",
    "\n",
    "df = pd.read_csv('Score_Results.csv')\n",
    "\n",
    "df"
   ]
  }
 ],
 "metadata": {
  "kernelspec": {
   "display_name": "acip",
   "language": "python",
   "name": "python3"
  },
  "language_info": {
   "codemirror_mode": {
    "name": "ipython",
    "version": 3
   },
   "file_extension": ".py",
   "mimetype": "text/x-python",
   "name": "python",
   "nbconvert_exporter": "python",
   "pygments_lexer": "ipython3",
   "version": "3.10.16"
  }
 },
 "nbformat": 4,
 "nbformat_minor": 2
}
