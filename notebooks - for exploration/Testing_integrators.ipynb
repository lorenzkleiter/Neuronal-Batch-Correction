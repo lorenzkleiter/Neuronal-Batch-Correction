{
 "cells": [
  {
   "cell_type": "code",
   "execution_count": null,
   "metadata": {},
   "outputs": [],
   "source": [
    "#Imports\n",
    "import scib\n",
    "import os\n",
    "import scanpy as sc\n",
    "import tensorflow as tf\n",
    "import matplotlib\n",
    "import anndata\n",
    "from scipy import sparse\n",
    "import pandas as pd"
   ]
  },
  {
   "cell_type": "code",
   "execution_count": null,
   "metadata": {},
   "outputs": [],
   "source": [
    "#---Load Data---\n",
    "dataset_name = 'Lung_Atlas_public'\n",
    "label_key = 'cell_type'\n",
    "batch_key = 'batch'\n",
    "\n",
    "\n",
    "#set base path to load data: goes back one directory and then into the data\n",
    "base_path = os.path.join('..', 'data')\n",
    "\n",
    "# read dataset into an anndata object:  Category - Cells of the brain\n",
    "inPath = os.path.join(base_path, f\"{dataset_name}.h5ad\")\n",
    "adata = sc.read(inPath)\n",
    "\n",
    "#---load model---\n",
    "#set base path to load data: goes back one directory and then into the data\n",
    "base_path = os.path.join('..', 'src', 'models', 'saved_models')\n",
    "name = \"autoencoder_final_onestep_classifier\"\n",
    "\n",
    "# load autoencoder\n",
    "inPath = os.path.join(base_path, f\"{name}.keras\")\n",
    "autoencoder = tf.keras.models.load_model(inPath)"
   ]
  },
  {
   "cell_type": "code",
   "execution_count": null,
   "metadata": {},
   "outputs": [],
   "source": [
    "def integrate(adata, batch_key, label_key, alg):\n",
    "    if alg == 'bbknn':\n",
    "        scib.integration.bbknn(adata, batch_key, hvg=None)\n",
    "    elif alg == 'combat':\n",
    "        scib.integration.combat(adata, batch_key)\n",
    "    elif alg == 'desc':\n",
    "        scib.integration.desc(adata, batch_key, res=0.8, ncores=None, tmp_dir=None, use_gpu=False, gpu_id=None)\n",
    "    elif alg == 'harmony':\n",
    "        scib.integration.harmony(adata, batch_key, hvg=None)\n",
    "    elif alg == 'mnn':\n",
    "        scib.integration.mnn(adata, batch_key, hvg=None)\n",
    "    elif alg == 'scanorama':\n",
    "        scib.integration.scanorama(adata, batch_key, hvg=None)\n",
    "    elif alg == 'scgen':\n",
    "        scib.integration.scgen(adata, batch_key, label_key, epochs=50, hvg=None)\n",
    "    return adata"
   ]
  }
 ],
 "metadata": {
  "kernelspec": {
   "display_name": "acip",
   "language": "python",
   "name": "python3"
  },
  "language_info": {
   "codemirror_mode": {
    "name": "ipython",
    "version": 3
   },
   "file_extension": ".py",
   "mimetype": "text/x-python",
   "name": "python",
   "nbconvert_exporter": "python",
   "pygments_lexer": "ipython3",
   "version": "3.10.16"
  }
 },
 "nbformat": 4,
 "nbformat_minor": 2
}
