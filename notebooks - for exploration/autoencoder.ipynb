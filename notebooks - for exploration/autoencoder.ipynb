{
 "cells": [
  {
   "cell_type": "markdown",
   "metadata": {
    "id": "xfNT-mlFwxVM"
   },
   "source": [
    "# Intro to Autoencoders"
   ]
  },
  {
   "cell_type": "markdown",
   "metadata": {
    "id": "ITZuApL56Mny"
   },
   "source": [
    "This tutorial introduces autoencoders\n",
    "\n",
    "An autoencoder is a special type of neural network that is trained to copy its input to its output. For example, given an image of a handwritten digit, an autoencoder first encodes the image into a lower dimensional latent representation, then decodes the latent representation back to an image. An autoencoder learns to compress the data while minimizing the reconstruction error."
   ]
  },
  {
   "cell_type": "markdown",
   "metadata": {
    "id": "e1_Y75QXJS6h"
   },
   "source": [
    "## Import TensorFlow and other libraries"
   ]
  },
  {
   "cell_type": "code",
   "execution_count": 18,
   "metadata": {
    "execution": {
     "iopub.execute_input": "2024-08-16T05:08:23.516087Z",
     "iopub.status.busy": "2024-08-16T05:08:23.515550Z",
     "iopub.status.idle": "2024-08-16T05:08:26.461467Z",
     "shell.execute_reply": "2024-08-16T05:08:26.460737Z"
    },
    "id": "YfIk2es3hJEd"
   },
   "outputs": [],
   "source": [
    "import matplotlib.pyplot as plt\n",
    "import numpy as np\n",
    "import pandas as pd\n",
    "import tensorflow as tf\n",
    "\n",
    "from tensorflow.keras import models\n",
    "from tensorflow.keras.layers import Dense, Activation\n",
    "from tensorflow.keras.datasets import fashion_mnist"
   ]
  },
  {
   "cell_type": "markdown",
   "metadata": {
    "id": "iYn4MdZnKCey"
   },
   "source": [
    "## Load the dataset\n",
    "To start, you will train the basic autoencoder using the Fashion MNIST dataset. Each image in this dataset is 28x28 pixels."
   ]
  },
  {
   "cell_type": "code",
   "execution_count": 29,
   "metadata": {
    "execution": {
     "iopub.execute_input": "2024-08-16T05:08:26.465909Z",
     "iopub.status.busy": "2024-08-16T05:08:26.465480Z",
     "iopub.status.idle": "2024-08-16T05:08:26.951978Z",
     "shell.execute_reply": "2024-08-16T05:08:26.951144Z"
    },
    "id": "YZm503-I_tji"
   },
   "outputs": [],
   "source": [
    "(x_train, _), (x_test, _) = fashion_mnist.load_data() #load data\n",
    "\n",
    "x_train = x_train.astype('float32') / 255. #normalize\n",
    "x_test = x_test.astype('float32') / 255."
   ]
  },
  {
   "cell_type": "markdown",
   "metadata": {},
   "source": [
    "## Looking at the Data"
   ]
  },
  {
   "cell_type": "code",
   "execution_count": 28,
   "metadata": {},
   "outputs": [
    {
     "data": {
      "image/png": "[encoded data removed]",
      "text/plain": [
       "<Figure size 640x480 with 1 Axes>"
      ]
     },
     "metadata": {},
     "output_type": "display_data"
    }
   ],
   "source": [
    "#plot one of the images\n",
    "image_nr = 1\n",
    "plt.imshow(x_train[image_nr], cmap='gray', vmin=0, vmax=1)\n",
    "plt.show()"
   ]
  },
  {
   "cell_type": "markdown",
   "metadata": {
    "id": "VEdCXSwCoKok"
   },
   "source": [
    "## Basic autoencoder\n",
    "\n",
    "Define an autoencoder with two Dense layers: an `encoder`, which compresses the images into a 64 dimensional latent vector, and a `decoder`, that reconstructs the original image from the latent space."
   ]
  },
  {
   "cell_type": "code",
   "execution_count": null,
   "metadata": {
    "execution": {
     "iopub.execute_input": "2024-08-16T05:08:26.955535Z",
     "iopub.status.busy": "2024-08-16T05:08:26.955262Z",
     "iopub.status.idle": "2024-08-16T05:08:29.196992Z",
     "shell.execute_reply": "2024-08-16T05:08:29.196168Z"
    },
    "id": "0MUxidpyChjX"
   },
   "outputs": [
    {
     "name": "stderr",
     "output_type": "stream",
     "text": [
      "c:\\Users\\lklei\\anaconda3\\envs\\Tensorflow\\lib\\site-packages\\keras\\src\\layers\\core\\dense.py:87: UserWarning: Do not pass an `input_shape`/`input_dim` argument to a layer. When using Sequential models, prefer using an `Input(shape)` object as the first layer in the model instead.\n",
      "  super().__init__(activity_regularizer=activity_regularizer, **kwargs)\n"
     ]
    }
   ],
   "source": [
    "'''\n",
    "First step is to intilize the autoencoder\n",
    "'''\n",
    "\n",
    "## Define the encoder\n",
    "N_HIDDEN = 64 # Dimension which the Encoder reduces the image to\n",
    "ACTIVATION_FUNCTION_ENCODER = 'relu'\n",
    "\n",
    "encoder = models.Sequential()\n",
    "# add one dense hidden layer to the encoder, with the input size 784 (784 pixels) and the output size 64\n",
    "encoder.add(Dense(N_HIDDEN, input_shape=(784,)))\n",
    "encoder.add(Activation(ACTIVATION_FUNCTION_ENCODER))\n",
    "\n",
    "# Define the decoder\n",
    "ACTIVATION_FUNCTION_DECODER = 'sigmoid'\n",
    "decoder = models.Sequential()\n",
    "# add one output layer to the decoder, with the input size 64 (hidden layer of the encoder) and the output size 784\n",
    "decoder.add(Dense(784))\n",
    "decoder.add(Activation(ACTIVATION_FUNCTION_DECODER))\n",
    "\n",
    "# Define the autoencoder model\n",
    "input_img = tf.keras.Input(shape=(784,)) #Generic input\n",
    "encoded = encoder(input_img) #encoder input\n",
    "decoded = decoder(encoded)  #decoder input\n",
    "\n",
    "autoencoder = tf.keras.Model(input_img, decoded) #autoencoder: takes input_img and returns decoded picture\n",
    "\n",
    "# Compile the autoencoder\n",
    "autoencoder.compile(optimizer='adam', loss='mse') #adam: type of optimizer used to minimize the loss function. mse: loss function. difference between input and output"
   ]
  },
  {
   "cell_type": "code",
   "execution_count": 32,
   "metadata": {
    "execution": {
     "iopub.execute_input": "2024-08-16T05:08:29.200930Z",
     "iopub.status.busy": "2024-08-16T05:08:29.200574Z",
     "iopub.status.idle": "2024-08-16T05:08:29.216831Z",
     "shell.execute_reply": "2024-08-16T05:08:29.216260Z"
    },
    "id": "9I1JlqEIDCI4"
   },
   "outputs": [
    {
     "name": "stdout",
     "output_type": "stream",
     "text": [
      "(60000, 784)\n",
      "Epoch 1/10\n",
      "\u001b[1m1875/1875\u001b[0m \u001b[32m━━━━━━━━━━━━━━━━━━━━\u001b[0m\u001b[37m\u001b[0m \u001b[1m2s\u001b[0m 960us/step - loss: 0.0345 - val_loss: 0.0143\n",
      "Epoch 2/10\n",
      "\u001b[1m1875/1875\u001b[0m \u001b[32m━━━━━━━━━━━━━━━━━━━━\u001b[0m\u001b[37m\u001b[0m \u001b[1m2s\u001b[0m 892us/step - loss: 0.0140 - val_loss: 0.0133\n",
      "Epoch 3/10\n",
      "\u001b[1m1875/1875\u001b[0m \u001b[32m━━━━━━━━━━━━━━━━━━━━\u001b[0m\u001b[37m\u001b[0m \u001b[1m2s\u001b[0m 907us/step - loss: 0.0132 - val_loss: 0.0132\n",
      "Epoch 4/10\n",
      "\u001b[1m1875/1875\u001b[0m \u001b[32m━━━━━━━━━━━━━━━━━━━━\u001b[0m\u001b[37m\u001b[0m \u001b[1m2s\u001b[0m 931us/step - loss: 0.0130 - val_loss: 0.0140\n",
      "Epoch 5/10\n",
      "\u001b[1m1875/1875\u001b[0m \u001b[32m━━━━━━━━━━━━━━━━━━━━\u001b[0m\u001b[37m\u001b[0m \u001b[1m2s\u001b[0m 885us/step - loss: 0.0127 - val_loss: 0.0125\n",
      "Epoch 6/10\n",
      "\u001b[1m1875/1875\u001b[0m \u001b[32m━━━━━━━━━━━━━━━━━━━━\u001b[0m\u001b[37m\u001b[0m \u001b[1m2s\u001b[0m 861us/step - loss: 0.0124 - val_loss: 0.0123\n",
      "Epoch 7/10\n",
      "\u001b[1m1875/1875\u001b[0m \u001b[32m━━━━━━━━━━━━━━━━━━━━\u001b[0m\u001b[37m\u001b[0m \u001b[1m2s\u001b[0m 862us/step - loss: 0.0123 - val_loss: 0.0122\n",
      "Epoch 8/10\n",
      "\u001b[1m1875/1875\u001b[0m \u001b[32m━━━━━━━━━━━━━━━━━━━━\u001b[0m\u001b[37m\u001b[0m \u001b[1m2s\u001b[0m 885us/step - loss: 0.0122 - val_loss: 0.0121\n",
      "Epoch 9/10\n",
      "\u001b[1m1875/1875\u001b[0m \u001b[32m━━━━━━━━━━━━━━━━━━━━\u001b[0m\u001b[37m\u001b[0m \u001b[1m2s\u001b[0m 869us/step - loss: 0.0121 - val_loss: 0.0121\n",
      "Epoch 10/10\n",
      "\u001b[1m1875/1875\u001b[0m \u001b[32m━━━━━━━━━━━━━━━━━━━━\u001b[0m\u001b[37m\u001b[0m \u001b[1m2s\u001b[0m 862us/step - loss: 0.0121 - val_loss: 0.0121\n"
     ]
    },
    {
     "data": {
      "text/plain": [
       "<keras.src.callbacks.history.History at 0x13a19c545e0>"
      ]
     },
     "execution_count": 32,
     "metadata": {},
     "output_type": "execute_result"
    }
   ],
   "source": [
    "'Now we train the autoencoder'\n",
    "# reshape the data so that the autoencoder can uderstand it\n",
    "x_train = x_train.reshape(60000, 784) \n",
    "x_test = x_test.reshape(10000, 784) \n",
    "\n",
    "print (x_train.shape)\n",
    "\n",
    "# The autoencoder fits the data to the data -> in the end nothing should change\n",
    "autoencoder.fit(x_train, x_train,\n",
    "                epochs=10,\n",
    "                batch_size=32,\n",
    "                shuffle=True, \n",
    "                validation_data=(x_test, x_test)) # shuffle the data after each epoch to reduce overfitting, \n"
   ]
  },
  {
   "cell_type": "markdown",
   "metadata": {
    "id": "wAM1QBhtoC-n"
   },
   "source": [
    "Now that the model is trained, let's test it by encoding and decoding images from the test set."
   ]
  },
  {
   "cell_type": "code",
   "execution_count": null,
   "metadata": {
    "execution": {
     "iopub.execute_input": "2024-08-16T05:08:56.661491Z",
     "iopub.status.busy": "2024-08-16T05:08:56.661241Z",
     "iopub.status.idle": "2024-08-16T05:08:56.830984Z",
     "shell.execute_reply": "2024-08-16T05:08:56.830252Z"
    },
    "id": "Pbr5WCj7FQUi"
   },
   "outputs": [
    {
     "name": "stdout",
     "output_type": "stream",
     "text": [
      "\u001b[1m313/313\u001b[0m \u001b[32m━━━━━━━━━━━━━━━━━━━━\u001b[0m\u001b[37m\u001b[0m \u001b[1m0s\u001b[0m 467us/step\n",
      "\u001b[1m313/313\u001b[0m \u001b[32m━━━━━━━━━━━━━━━━━━━━\u001b[0m\u001b[37m\u001b[0m \u001b[1m0s\u001b[0m 481us/step\n",
      "(10000, 28, 28)\n"
     ]
    }
   ],
   "source": [
    "# Use the encoder and decoder models directly since they're defined separately\n",
    "encoded_imgs = encoder.predict(x_test)\n",
    "decoded_imgs = decoder.predict(encoded_imgs)\n",
    "\n",
    "# Make sure your reshape matches the test set size (10000, not 60000)\n",
    "decoded_imgs = decoded_imgs.reshape(-1, 28, 28)  # Using -1 to automatically determine the first dimension\n",
    "print(decoded_imgs.shape)"
   ]
  },
  {
   "cell_type": "code",
   "execution_count": null,
   "metadata": {
    "execution": {
     "iopub.execute_input": "2024-08-16T05:08:56.835301Z",
     "iopub.status.busy": "2024-08-16T05:08:56.834660Z",
     "iopub.status.idle": "2024-08-16T05:08:57.272919Z",
     "shell.execute_reply": "2024-08-16T05:08:57.272284Z"
    },
    "id": "s4LlDOS6FUA1"
   },
   "outputs": [
    {
     "data": {
      "image/png": "[encoded data removed]",
      "text/plain": [
       "<Figure size 2000x400 with 20 Axes>"
      ]
     },
     "metadata": {},
     "output_type": "display_data"
    }
   ],
   "source": [
    "n = 10\n",
    "plt.figure(figsize=(20, 4)) # 20 subplots are created\n",
    "for i in range(n):\n",
    "  # display original\n",
    "  ax = plt.subplot(2, n, i + 1)\n",
    "  plt.imshow(x_test.reshape(-1, 28, 28)[i])\n",
    "  plt.title(\"original\")\n",
    "  plt.gray()\n",
    "  ax.get_xaxis().set_visible(False)\n",
    "  ax.get_yaxis().set_visible(False)\n",
    "\n",
    "  # display reconstruction\n",
    "  ax = plt.subplot(2, n, i + 1 + n)\n",
    "  plt.imshow(decoded_imgs[i])\n",
    "  plt.title(\"reconstructed\")\n",
    "  plt.gray()\n",
    "  ax.get_xaxis().set_visible(False)\n",
    "  ax.get_yaxis().set_visible(False)\n",
    "plt.show()"
   ]
  }
 ],
 "metadata": {
  "accelerator": "GPU",
  "colab": {
   "gpuType": "T4",
   "private_outputs": true,
   "provenance": [
    {
     "file_id": "17gKB2bKebV2DzoYIMFzyEXA5uDnwWOvT",
     "timestamp": 1712793165979
    },
    {
     "file_id": "https://github.com/tensorflow/docs/blob/master/site/en/tutorials/generative/autoencoder.ipynb",
     "timestamp": 1712792176273
    }
   ],
   "toc_visible": true
  },
  "kernelspec": {
   "display_name": "Tensorflow",
   "language": "python",
   "name": "python3"
  },
  "language_info": {
   "codemirror_mode": {
    "name": "ipython",
    "version": 3
   },
   "file_extension": ".py",
   "mimetype": "text/x-python",
   "name": "python",
   "nbconvert_exporter": "python",
   "pygments_lexer": "ipython3",
   "version": "3.10.16"
  }
 },
 "nbformat": 4,
 "nbformat_minor": 0
}
