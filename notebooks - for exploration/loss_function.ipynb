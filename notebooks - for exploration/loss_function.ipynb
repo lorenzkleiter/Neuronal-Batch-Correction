{
 "cells": [
  {
   "cell_type": "code",
   "execution_count": 61,
   "metadata": {},
   "outputs": [
    {
     "name": "stdout",
     "output_type": "stream",
     "text": [
      "their tf.Tensor(1.609438, shape=(), dtype=float32)\n"
     ]
    }
   ],
   "source": [
    "import tensorflow as tf\n",
    "\n",
    "batch_labels = tf.constant([0, 1], dtype=tf.float32)\n",
    "disc_output = tf.constant([0.8, 0.2], dtype=tf.float32)\n",
    "\n",
    "# Element-wise multiplication followed by summation\n",
    "pred_confidence = tf.reduce_sum(batch_labels * disc_output)\n",
    "\n",
    "test = tf.keras.losses.CategoricalCrossentropy()(batch_labels, disc_output)\n",
    "print(\"their\", test)\n"
   ]
  },
  {
   "cell_type": "code",
   "execution_count": null,
   "metadata": {},
   "outputs": [
    {
     "data": {
      "text/plain": [
       "<tf.Tensor: shape=(), dtype=float32, numpy=16.11809539794922>"
      ]
     },
     "execution_count": 22,
     "metadata": {},
     "output_type": "execute_result"
    }
   ],
   "source": [
    "discriminator_loss = 1-tf.math.log(1-1.0)\n",
    "print(\"my loss function\", discriminator_loss)\n",
    "test = -tf.keras.losses.CategoricalCrossentropy()(batch_labels, disc_output)\n",
    "print(\"their\", test)"
   ]
  }
 ],
 "metadata": {
  "kernelspec": {
   "display_name": "Tensorflow",
   "language": "python",
   "name": "python3"
  },
  "language_info": {
   "codemirror_mode": {
    "name": "ipython",
    "version": 3
   },
   "file_extension": ".py",
   "mimetype": "text/x-python",
   "name": "python",
   "nbconvert_exporter": "python",
   "pygments_lexer": "ipython3",
   "version": "3.10.16"
  }
 },
 "nbformat": 4,
 "nbformat_minor": 2
}
