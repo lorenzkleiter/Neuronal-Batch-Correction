{
 "cells": [
  {
   "cell_type": "code",
   "execution_count": 299,
   "metadata": {},
   "outputs": [],
   "source": [
    "#---imports---\n",
    "import tensorflow as tf\n",
    "import numpy as np\n",
    "import os\n",
    "import scanpy as sc\n",
    "from sklearn.preprocessing import OneHotEncoder\n",
    "import pandas as pd\n",
    "import matplotlib.pyplot as plt"
   ]
  },
  {
   "cell_type": "code",
   "execution_count": 300,
   "metadata": {},
   "outputs": [],
   "source": [
    "#Function 3:\n",
    "#--- Custom loss Function---\n",
    "#Used by Function 4\n",
    "#Input: disc_output - discriminator output (guess), batch_labels: one hot encoded batch labels (truth)\n",
    "#Output: adversarial_loss: the lower the loss the worse the discriminator is at picking the correct batch\n",
    "def loss_function_log(disc_output, batch_labels):\n",
    "    #get Batch_size\n",
    "    batch_size = batch_labels.shape[0]\n",
    "    #Custom loss function: First calculate log(1-Confidence in correct batch)\n",
    "    batch_labels = tf.cast(batch_labels, tf.float32)                # make sure floats match\n",
    "    disc_output  = tf.cast(disc_output, tf.float32)                # make sure floats match\n",
    "\n",
    "    # Element-wise multiplication followed by summation\n",
    "    pred_confidence = (tf.reduce_sum(batch_labels * disc_output))/batch_size\n",
    "    #Adversarial loss - make discriminator classify reconstructions as target labels\n",
    "    adversarial_loss = -tf.math.log(1-pred_confidence)\n",
    "    return adversarial_loss\n",
    "\n",
    "def loss_function_uniform(disc_output, batch_labels):\n",
    "    # The target is to have a uniform distribution around all classes\n",
    "    num_classes = batch_labels.shape[1]\n",
    "    target_labels = tf.ones_like(batch_labels) / num_classes\n",
    "    adv_loss = tf.keras.losses.CategoricalCrossentropy()(target_labels, batch_labels)\n",
    "    return adv_loss\n",
    "\n",
    "#Function 4:\n",
    "# ---Adverserial Training: Define Trainng function--- \n",
    "#Used by Function 5\n",
    "#Define the autoencoder adversarial training function\n",
    "#overriding the normal training function\n",
    "\"\"\"\n",
    "Implement later: improve own cross entropy function\n",
    "\"\"\"\n",
    "@tf.function \n",
    "def train_autoencoder_adversarial(gene_expression, batch_labels, autoencoder, discriminator, optimizer):\n",
    "    \"\"\"\n",
    "    Train the autoencoder to fool the discriminator into classifying reconstructions as target classes.\n",
    "    \n",
    "    Args:\n",
    "        gene_expression: Input gene_expression data\n",
    "        batch_labels: One-hot encoded target batch labels to fool the discriminator\n",
    "        encoder: Pretrained encoder model\n",
    "        decoder: Pretrained decoder model\n",
    "        discriminator: Pretrained discriminator model (frozen during this training)\n",
    "        optimizer: Optimizer for the autoencoder\n",
    "    \"\"\"\n",
    "    with tf.GradientTape() as tape:\n",
    "        # CAll autoencoder to get reconstructed gene expression\n",
    "        reconstructed_gene_expression = autoencoder(gene_expression)\n",
    "        \n",
    "        # Get discriminator output for reconstructed gene expression\n",
    "        disc_output = discriminator(reconstructed_gene_expression)\n",
    "\n",
    "        # Adversarial loss - the lower the loss the worse the discriminator is at picking the correct batch\n",
    "        adverserial_loss = loss_function_log(batch_labels, disc_output)\n",
    "\n",
    "        # Reconstruction loss - check much the data is transformed\n",
    "        reconstruction_loss = tf.keras.losses.MeanSquaredError()(gene_expression, reconstructed_gene_expression)\n",
    "    \n",
    "    # Get gradients and update autoencoder weights only\n",
    "    gradients = tape.gradient(adverserial_loss, autoencoder.trainable_variables)\n",
    "    optimizer.apply_gradients(zip(gradients, autoencoder.trainable_variables))\n",
    "    \n",
    "    return adverserial_loss, reconstruction_loss\n",
    "\n",
    "#Function 5: Adverserial Training loop\n",
    "#---Adverserial Training: Create custom training loop---\n",
    "#Input: Anndata Object, Epochs, Batch_size, Autoencoder, Discriminaotr\n",
    "#Output: Autoencoder\n",
    "\n",
    "def adversarial_training(adata, epochs, BATCHES, autoencoder, discriminator):\n",
    "    # Initialize an empty history arrays\n",
    "    adversarial_losses = []\n",
    "    reconstruction_losses = []\n",
    "    accuracies = []\n",
    "\n",
    "    #Data preperation: adata to Tensorflow dataset\n",
    "    #ADATA->NUMPY\n",
    "    GENE_EXPRESSION = adata.X.toarray()\n",
    "    #One-hot encoding the Batches\n",
    "    encoder = OneHotEncoder(sparse_output=False)  # `sparse=False` returns a dense array\n",
    "    BATCH_LABELS = encoder.fit_transform(adata.obs[['batchname_all']])\n",
    "    #Combine NUMPY and One-hot encoded Batches in a Tensorflow dataset\n",
    "    train_dataset = tf.data.Dataset.from_tensor_slices((GENE_EXPRESSION, BATCH_LABELS))\n",
    "    #Create training batches\n",
    "    batch_size = BATCHES\n",
    "    train_dataset = train_dataset.batch(batch_size)\n",
    "    \n",
    "    # Freeze the discriminator weights\n",
    "    discriminator.trainable = False\n",
    "    \n",
    "    # Optimizer for the autoencoder\n",
    "    optimizer = tf.keras.optimizers.Adam(learning_rate=0.000001)\n",
    "    \n",
    "    # Training loop\n",
    "    for epoch in range(epochs):\n",
    "\n",
    "        dis_loss_avg = tf.keras.metrics.Mean()      #loss of the discriminator\n",
    "        rec_loss_avg = tf.keras.metrics.Mean()      #loss of the autoencoder\n",
    "\n",
    "        for batch in train_dataset:\n",
    "            #Batch number\n",
    "            gene_expression, batch_labels = batch\n",
    "            \n",
    "            # Train autoencoder\n",
    "            adv_loss, rec_loss = train_autoencoder_adversarial(\n",
    "                gene_expression, batch_labels, autoencoder, discriminator, optimizer\n",
    "            )\n",
    "            # Update adv loss\n",
    "            dis_loss_avg.update_state(adv_loss)\n",
    "            rec_loss_avg.update_state(rec_loss)\n",
    "\n",
    "        \n",
    "        # print epoch results\n",
    "        print(f\"Epoch {epoch+1}/{epochs}\")\n",
    "        print(f\" Adversarial Loss: {dis_loss_avg.result():.4f}, \" +\n",
    "              f\" Reconstruction Loss: {rec_loss_avg.result():.4f}\")\n",
    "            \n",
    "        #save history\n",
    "        adversarial_losses.append(dis_loss_avg.result())\n",
    "        reconstruction_losses.append(rec_loss_avg.result())\n",
    "        accuracy = discriminator.evaluate(autoencoder(GENE_EXPRESSION), BATCH_LABELS, verbose=2)[1]\n",
    "        accuracies.append(accuracy)\n",
    "\n",
    "    #Create history DataFrame    \n",
    "    history = pd.DataFrame({\n",
    "        'adversarial_loss': adversarial_losses,\n",
    "        'reconstruction_loss': reconstruction_losses,\n",
    "        'accuracy': accuracies\n",
    "        })\n",
    "    return history, autoencoder"
   ]
  },
  {
   "cell_type": "code",
   "execution_count": 301,
   "metadata": {},
   "outputs": [],
   "source": [
    "#---load data and Neuronal Networks---\n",
    "#set base path to load data: goes back one directory and then into the data\n",
    "base_path = os.path.join('..', 'data')\n",
    "#Name of data set\n",
    "dataset_name = 'large_atac_gene_activity'\n",
    "# read dataset into an anndata object:  Category - Cells of the brain\n",
    "inPath = os.path.join(base_path, f\"{dataset_name}.h5ad\")\n",
    "adata = sc.read(inPath)\n",
    "\n",
    "#set base path to load data: goes back one directory and then into the data\n",
    "base_path = os.path.join('..', 'src', 'models', 'saved_models')\n",
    "#Name of autoencoder\n",
    "dataset_name = 'autoencoder_mselossfunction'\n",
    "# load autoencoder\n",
    "inPath = os.path.join(base_path, f\"{dataset_name}.keras\")\n",
    "autoencoder = tf.keras.models.load_model(inPath)\n",
    "\n",
    "#Name of discriminator\n",
    "dataset_name = 'discriminator_pretrained'\n",
    "# load discriminator\n",
    "inPath = os.path.join(base_path, f\"{dataset_name}.keras\")\n",
    "discriminator = tf.keras.models.load_model(inPath)\n"
   ]
  },
  {
   "cell_type": "code",
   "execution_count": 302,
   "metadata": {},
   "outputs": [],
   "source": [
    "#---look at data---\n",
    "#Data preperation: adata to Tensorflow dataset\n",
    "#ADATA->NUMPY\n",
    "GENE_EXPRESSION = adata.X.toarray()\n",
    "#One-hot encoding the Batches\n",
    "encoder = OneHotEncoder(sparse_output=False)  # `sparse=False` returns a dense array\n",
    "BATCH_LABELS = encoder.fit_transform(adata.obs[['batchname_all']])\n",
    "#Combine NUMPY and One-hot encoded Batches in a Tensorflow dataset\n",
    "train_dataset = tf.data.Dataset.from_tensor_slices((GENE_EXPRESSION, BATCH_LABELS))\n",
    "#Batch the data set\n",
    "train_dataset = train_dataset.batch(30)\n",
    "\n",
    "# Create an iterator from the dataset\n",
    "dataset_iterator = iter(train_dataset)\n",
    "\n",
    "# Get the first batch\n",
    "batch = next(dataset_iterator)"
   ]
  },
  {
   "cell_type": "code",
   "execution_count": 303,
   "metadata": {},
   "outputs": [
    {
     "name": "stdout",
     "output_type": "stream",
     "text": [
      "Accuracy on base data:\n",
      "2651/2651 - 3s - 1ms/step - accuracy: 0.3211 - loss: 1.8420\n",
      "Accuracy on autoencoded data:\n",
      "2651/2651 - 3s - 964us/step - accuracy: 0.3220 - loss: 1.8220\n"
     ]
    },
    {
     "data": {
      "text/plain": [
       "[1.8220343589782715, 0.3220379054546356]"
      ]
     },
     "execution_count": 303,
     "metadata": {},
     "output_type": "execute_result"
    }
   ],
   "source": [
    "#Check discriminator\n",
    "print(\"Accuracy on base data:\")\n",
    "discriminator.evaluate(GENE_EXPRESSION, BATCH_LABELS, verbose=2)\n",
    "print(\"Accuracy on autoencoded data:\")\n",
    "discriminator.evaluate(autoencoder(GENE_EXPRESSION), BATCH_LABELS, verbose=2)"
   ]
  },
  {
   "cell_type": "code",
   "execution_count": 304,
   "metadata": {},
   "outputs": [
    {
     "name": "stdout",
     "output_type": "stream",
     "text": [
      "Epoch 1/10\n",
      " Adversarial Loss: 0.2571,  Reconstruction Loss: 0.0663\n",
      "2651/2651 - 2s - 938us/step - accuracy: 0.3033 - loss: 1.8603\n",
      "Epoch 2/10\n",
      " Adversarial Loss: 0.2251,  Reconstruction Loss: 0.0669\n",
      "2651/2651 - 3s - 1ms/step - accuracy: 0.2386 - loss: 2.1156\n",
      "Epoch 3/10\n",
      " Adversarial Loss: 0.1424,  Reconstruction Loss: 0.0695\n",
      "2651/2651 - 3s - 990us/step - accuracy: 0.1006 - loss: 3.8412\n",
      "Epoch 4/10\n",
      " Adversarial Loss: 0.0891,  Reconstruction Loss: 0.0737\n",
      "2651/2651 - 3s - 1ms/step - accuracy: 0.0782 - loss: 5.0985\n",
      "Epoch 5/10\n",
      " Adversarial Loss: 0.0756,  Reconstruction Loss: 0.0776\n",
      "2651/2651 - 3s - 964us/step - accuracy: 0.0728 - loss: 5.8802\n",
      "Epoch 6/10\n",
      " Adversarial Loss: 0.0693,  Reconstruction Loss: 0.0813\n",
      "2651/2651 - 3s - 956us/step - accuracy: 0.0659 - loss: 6.4547\n",
      "Epoch 7/10\n",
      " Adversarial Loss: 0.0653,  Reconstruction Loss: 0.0852\n",
      "2651/2651 - 3s - 1ms/step - accuracy: 0.0579 - loss: 6.9128\n",
      "Epoch 8/10\n",
      " Adversarial Loss: 0.0624,  Reconstruction Loss: 0.0891\n",
      "2651/2651 - 2s - 925us/step - accuracy: 0.0511 - loss: 7.2963\n",
      "Epoch 9/10\n",
      " Adversarial Loss: 0.0603,  Reconstruction Loss: 0.0931\n",
      "2651/2651 - 2s - 919us/step - accuracy: 0.0471 - loss: 7.6276\n",
      "Epoch 10/10\n",
      " Adversarial Loss: 0.0586,  Reconstruction Loss: 0.0972\n",
      "2651/2651 - 3s - 987us/step - accuracy: 0.0444 - loss: 7.9212\n"
     ]
    }
   ],
   "source": [
    "#---Training---\n",
    "# Run the training\n",
    "epochs = 10\n",
    "history, autoencoder = adversarial_training(adata, epochs, 100, autoencoder, discriminator)"
   ]
  },
  {
   "cell_type": "code",
   "execution_count": 305,
   "metadata": {},
   "outputs": [
    {
     "data": {
      "text/plain": [
       "<function matplotlib.pyplot.show(close=None, block=None)>"
      ]
     },
     "execution_count": 305,
     "metadata": {},
     "output_type": "execute_result"
    },
    {
     "data": {
      "image/png": "[encoded data removed]",
      "text/plain": [
       "<Figure size 1200x400 with 3 Axes>"
      ]
     },
     "metadata": {},
     "output_type": "display_data"
    }
   ],
   "source": [
    "#--Visualisize Training---\n",
    "# Plot training & validation loss\n",
    "plt.figure(figsize=(12, 4))\n",
    "plt.subplot(1, 3, 1)\n",
    "plt.plot(history[\"accuracy\"])\n",
    "#plt.plot(history[\"reconstruction_loss\"])\n",
    "plt.title('accuracy')\n",
    "plt.ylabel('accuracy')\n",
    "plt.xlabel('Epoch')\n",
    "\n",
    "plt.subplot(1, 3, 2)\n",
    "plt.plot(history[\"adversarial_loss\"])\n",
    "plt.title('adversarial_loss')\n",
    "plt.ylabel('Loss')\n",
    "\n",
    "plt.subplot(1, 3, 3)\n",
    "plt.plot(history[\"reconstruction_loss\"])\n",
    "plt.title('reconstruction_loss')\n",
    "plt.ylabel('Loss')\n",
    "plt.show"
   ]
  }
 ],
 "metadata": {
  "kernelspec": {
   "display_name": "Tensorflow",
   "language": "python",
   "name": "python3"
  },
  "language_info": {
   "codemirror_mode": {
    "name": "ipython",
    "version": 3
   },
   "file_extension": ".py",
   "mimetype": "text/x-python",
   "name": "python",
   "nbconvert_exporter": "python",
   "pygments_lexer": "ipython3",
   "version": "3.10.16"
  }
 },
 "nbformat": 4,
 "nbformat_minor": 2
}
