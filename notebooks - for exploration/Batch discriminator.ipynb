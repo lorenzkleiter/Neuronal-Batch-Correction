{
 "cells": [
  {
   "cell_type": "markdown",
   "metadata": {},
   "source": [
    "# Batch discriminator\n",
    "\n",
    "Goal: Neuronal network that can distinguish between batches of the large atac gene activity data set"
   ]
  },
  {
   "cell_type": "code",
   "execution_count": null,
   "metadata": {},
   "outputs": [],
   "source": [
    "#import numpy and keras modules\n",
    "import numpy as np\n",
    "from tensorflow.keras.models import Sequential\n",
    "from tensorflow.keras.layers import Dense, Activation\n",
    "\n",
    "#import Scanpy modules\n",
    "import scanpy as sc\n",
    "import anndata as ad\n",
    "\n",
    "#import os\n",
    "import os\n"
   ]
  },
  {
   "cell_type": "markdown",
   "metadata": {},
   "source": [
    "## Load data"
   ]
  },
  {
   "cell_type": "code",
   "execution_count": 6,
   "metadata": {},
   "outputs": [],
   "source": [
    "#set base path to load data: goes back one directory and then into the data\n",
    "base_path = os.path.join('..', 'data', 'raw')\n",
    "\n",
    "#Name of data set\n",
    "dataset_name = 'large_atac_gene_activity'\n",
    "\n",
    "#Metadata names\n",
    "label_key = 'cell_type'\n",
    "batch_key = 'batch'\n",
    "\n",
    "\n",
    "# read dataset into an anndata object\n",
    "inPath = os.path.join(base_path, f\"{dataset_name}.h5ad\")\n",
    "adata = sc.read(inPath)"
   ]
  },
  {
   "cell_type": "code",
   "execution_count": null,
   "metadata": {},
   "outputs": [
    {
     "name": "stdout",
     "output_type": "stream",
     "text": [
      "batchname_all\n",
      "Fang et al. - CEMBA180226_1A                  11034\n",
      "Fang et al. - CEMBA180306_2B                  10981\n",
      "Fang et al. - CEMBA180308_3B                  10889\n",
      "Fang et al. - CEMBA180312_3B                  10540\n",
      "Fang et al. - CEMBA180305_2B                  10294\n",
      "Fang et al. - CEMBA180227_1A                   9967\n",
      "Cusanovich et al. - PreFrontalCortex_62216     6023\n",
      "Cusanovich et al. - WholeBrainA_62216          5814\n",
      "10x Genomics                                   3667\n",
      "Cusanovich et al. - WholeBrainA_62816          3283\n",
      "Cusanovich et al. - Cerebellum_62216           2321\n",
      "Name: count, dtype: int64\n"
     ]
    }
   ],
   "source": [
    "#adata.obs['batchname_all']\n",
    "print(adata.obs[\"batchname_all\"].value_counts()) # 11 Different batches from 3 different origins: Category - Cells of the brain"
   ]
  }
 ],
 "metadata": {
  "kernelspec": {
   "display_name": "Tensorflow",
   "language": "python",
   "name": "python3"
  },
  "language_info": {
   "codemirror_mode": {
    "name": "ipython",
    "version": 3
   },
   "file_extension": ".py",
   "mimetype": "text/x-python",
   "name": "python",
   "nbconvert_exporter": "python",
   "pygments_lexer": "ipython3",
   "version": "3.10.16"
  }
 },
 "nbformat": 4,
 "nbformat_minor": 2
}
