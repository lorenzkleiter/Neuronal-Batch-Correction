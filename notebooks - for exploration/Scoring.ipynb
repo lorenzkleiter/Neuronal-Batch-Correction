{
 "cells": [
  {
   "cell_type": "code",
   "execution_count": 9,
   "metadata": {},
   "outputs": [
    {
     "name": "stdout",
     "output_type": "stream",
     "text": [
      "2.18.0\n"
     ]
    }
   ],
   "source": [
    "import tensorflow as tf\n",
    "print(tf.__version__)"
   ]
  },
  {
   "cell_type": "code",
   "execution_count": 10,
   "metadata": {},
   "outputs": [],
   "source": [
    "import scib\n",
    "import os\n",
    "import scanpy as sc\n",
    "import tensorflow as tf\n",
    "import matplotlib\n",
    "import anndata\n",
    "from scipy import sparse\n",
    "import pandas as pd"
   ]
  },
  {
   "cell_type": "markdown",
   "metadata": {},
   "source": [
    "## Loading and Preprocessing"
   ]
  },
  {
   "cell_type": "code",
   "execution_count": 11,
   "metadata": {},
   "outputs": [
    {
     "name": "stderr",
     "output_type": "stream",
     "text": [
      "c:\\Users\\lklei\\anaconda3\\envs\\acip\\lib\\site-packages\\anndata\\_io\\specs\\registry.py:281: OldFormatWarning: Element '/layers' was written without encoding metadata.\n",
      "  return self.callback(read_func, elem.name, elem, iospec=iospec)\n",
      "c:\\Users\\lklei\\anaconda3\\envs\\acip\\lib\\site-packages\\anndata\\_io\\utils.py:215: OldFormatWarning: Element '/obs/__categories/dataset' was written without encoding metadata.\n",
      "  return func(*args, **kwargs)\n",
      "c:\\Users\\lklei\\anaconda3\\envs\\acip\\lib\\site-packages\\anndata\\_io\\utils.py:215: OldFormatWarning: Element '/obs/dataset' was written without encoding metadata.\n",
      "  return func(*args, **kwargs)\n",
      "c:\\Users\\lklei\\anaconda3\\envs\\acip\\lib\\site-packages\\anndata\\_io\\utils.py:215: OldFormatWarning: Element '/obs/__categories/location' was written without encoding metadata.\n",
      "  return func(*args, **kwargs)\n",
      "c:\\Users\\lklei\\anaconda3\\envs\\acip\\lib\\site-packages\\anndata\\_io\\utils.py:215: OldFormatWarning: Element '/obs/location' was written without encoding metadata.\n",
      "  return func(*args, **kwargs)\n",
      "c:\\Users\\lklei\\anaconda3\\envs\\acip\\lib\\site-packages\\anndata\\_io\\utils.py:215: OldFormatWarning: Element '/obs/nGene' was written without encoding metadata.\n",
      "  return func(*args, **kwargs)\n",
      "c:\\Users\\lklei\\anaconda3\\envs\\acip\\lib\\site-packages\\anndata\\_io\\utils.py:215: OldFormatWarning: Element '/obs/nUMI' was written without encoding metadata.\n",
      "  return func(*args, **kwargs)\n",
      "c:\\Users\\lklei\\anaconda3\\envs\\acip\\lib\\site-packages\\anndata\\_io\\utils.py:215: OldFormatWarning: Element '/obs/__categories/patientGroup' was written without encoding metadata.\n",
      "  return func(*args, **kwargs)\n",
      "c:\\Users\\lklei\\anaconda3\\envs\\acip\\lib\\site-packages\\anndata\\_io\\utils.py:215: OldFormatWarning: Element '/obs/patientGroup' was written without encoding metadata.\n",
      "  return func(*args, **kwargs)\n",
      "c:\\Users\\lklei\\anaconda3\\envs\\acip\\lib\\site-packages\\anndata\\_io\\utils.py:215: OldFormatWarning: Element '/obs/percent.mito' was written without encoding metadata.\n",
      "  return func(*args, **kwargs)\n",
      "c:\\Users\\lklei\\anaconda3\\envs\\acip\\lib\\site-packages\\anndata\\_io\\utils.py:215: OldFormatWarning: Element '/obs/__categories/protocol' was written without encoding metadata.\n",
      "  return func(*args, **kwargs)\n",
      "c:\\Users\\lklei\\anaconda3\\envs\\acip\\lib\\site-packages\\anndata\\_io\\utils.py:215: OldFormatWarning: Element '/obs/protocol' was written without encoding metadata.\n",
      "  return func(*args, **kwargs)\n",
      "c:\\Users\\lklei\\anaconda3\\envs\\acip\\lib\\site-packages\\anndata\\_io\\utils.py:215: OldFormatWarning: Element '/obs/__categories/sanger_type' was written without encoding metadata.\n",
      "  return func(*args, **kwargs)\n",
      "c:\\Users\\lklei\\anaconda3\\envs\\acip\\lib\\site-packages\\anndata\\_io\\utils.py:215: OldFormatWarning: Element '/obs/sanger_type' was written without encoding metadata.\n",
      "  return func(*args, **kwargs)\n",
      "c:\\Users\\lklei\\anaconda3\\envs\\acip\\lib\\site-packages\\anndata\\_io\\utils.py:215: OldFormatWarning: Element '/obs/size_factors' was written without encoding metadata.\n",
      "  return func(*args, **kwargs)\n",
      "c:\\Users\\lklei\\anaconda3\\envs\\acip\\lib\\site-packages\\anndata\\_io\\utils.py:215: OldFormatWarning: Element '/obs/__categories/sampling_method' was written without encoding metadata.\n",
      "  return func(*args, **kwargs)\n",
      "c:\\Users\\lklei\\anaconda3\\envs\\acip\\lib\\site-packages\\anndata\\_io\\utils.py:215: OldFormatWarning: Element '/obs/sampling_method' was written without encoding metadata.\n",
      "  return func(*args, **kwargs)\n",
      "c:\\Users\\lklei\\anaconda3\\envs\\acip\\lib\\site-packages\\anndata\\_io\\utils.py:215: OldFormatWarning: Element '/obs/__categories/batch' was written without encoding metadata.\n",
      "  return func(*args, **kwargs)\n",
      "c:\\Users\\lklei\\anaconda3\\envs\\acip\\lib\\site-packages\\anndata\\_io\\utils.py:215: OldFormatWarning: Element '/obs/batch' was written without encoding metadata.\n",
      "  return func(*args, **kwargs)\n",
      "c:\\Users\\lklei\\anaconda3\\envs\\acip\\lib\\site-packages\\anndata\\_io\\utils.py:215: OldFormatWarning: Element '/obs/__categories/cell_type' was written without encoding metadata.\n",
      "  return func(*args, **kwargs)\n",
      "c:\\Users\\lklei\\anaconda3\\envs\\acip\\lib\\site-packages\\anndata\\_io\\utils.py:215: OldFormatWarning: Element '/obs/cell_type' was written without encoding metadata.\n",
      "  return func(*args, **kwargs)\n",
      "c:\\Users\\lklei\\anaconda3\\envs\\acip\\lib\\site-packages\\anndata\\_io\\utils.py:215: OldFormatWarning: Element '/obs/__categories/donor' was written without encoding metadata.\n",
      "  return func(*args, **kwargs)\n",
      "c:\\Users\\lklei\\anaconda3\\envs\\acip\\lib\\site-packages\\anndata\\_io\\utils.py:215: OldFormatWarning: Element '/obs/donor' was written without encoding metadata.\n",
      "  return func(*args, **kwargs)\n",
      "c:\\Users\\lklei\\anaconda3\\envs\\acip\\lib\\site-packages\\anndata\\_io\\utils.py:215: OldFormatWarning: Element '/obs/index' was written without encoding metadata.\n",
      "  return func(*args, **kwargs)\n",
      "c:\\Users\\lklei\\anaconda3\\envs\\acip\\lib\\site-packages\\anndata\\_io\\utils.py:215: OldFormatWarning: Element '/var/index' was written without encoding metadata.\n",
      "  return func(*args, **kwargs)\n"
     ]
    }
   ],
   "source": [
    "#---Load Data---\n",
    "dataset_name = 'Lung_Atlas_public'\n",
    "label_key = 'cell_type'\n",
    "batch_key = 'batch'\n",
    "\n",
    "\n",
    "#set base path to load data: goes back one directory and then into the data\n",
    "base_path = os.path.join('..', 'data')\n",
    "\n",
    "# read dataset into an anndata object:  Category - Cells of the brain\n",
    "inPath = os.path.join(base_path, f\"{dataset_name}.h5ad\")\n",
    "adata = sc.read(inPath)\n",
    "\n",
    "#---load model---\n",
    "#set base path to load data: goes back one directory and then into the data\n",
    "base_path = os.path.join('..', 'src', 'models', 'saved_models')\n",
    "name = \"autoencoder_final_onestep_classifier\"\n",
    "\n",
    "# load autoencoder\n",
    "inPath = os.path.join(base_path, f\"{name}.keras\")\n",
    "autoencoder = tf.keras.models.load_model(inPath)"
   ]
  },
  {
   "cell_type": "code",
   "execution_count": 12,
   "metadata": {},
   "outputs": [
    {
     "name": "stdout",
     "output_type": "stream",
     "text": [
      "\u001b[1m1015/1015\u001b[0m \u001b[32m━━━━━━━━━━━━━━━━━━━━\u001b[0m\u001b[37m\u001b[0m \u001b[1m4s\u001b[0m 4ms/step\n"
     ]
    }
   ],
   "source": [
    "#---autoencode data---\n",
    "#adata -> numpy\n",
    "INPUT = adata.X.toarray()\n",
    "\n",
    "#autoencode data\n",
    "autoencoded_data = autoencoder.predict(INPUT)\n",
    "\n",
    "#numpy -> adata\n",
    "autoencoded_data_sparse = sparse.csr_matrix(autoencoded_data)\n",
    "#create anndata object\n",
    "integrated = anndata.AnnData(autoencoded_data_sparse)\n",
    "#Take metadata from input\n",
    "integrated.obs = adata.obs\n",
    "integrated.var= adata.var"
   ]
  },
  {
   "cell_type": "code",
   "execution_count": 13,
   "metadata": {},
   "outputs": [
    {
     "data": {
      "text/plain": [
       "AxisArrays with keys: "
      ]
     },
     "execution_count": 13,
     "metadata": {},
     "output_type": "execute_result"
    }
   ],
   "source": [
    "integrated.obsm"
   ]
  },
  {
   "cell_type": "code",
   "execution_count": 14,
   "metadata": {},
   "outputs": [
    {
     "name": "stdout",
     "output_type": "stream",
     "text": [
      "HVG\n",
      "Using 45 HVGs from full intersect set\n",
      "Using 84 HVGs from n_batch-1 set\n",
      "Using 73 HVGs from n_batch-2 set\n",
      "Using 94 HVGs from n_batch-3 set\n",
      "Using 110 HVGs from n_batch-4 set\n",
      "Using 136 HVGs from n_batch-5 set\n",
      "Using 184 HVGs from n_batch-6 set\n",
      "Using 257 HVGs from n_batch-7 set\n",
      "Using 250 HVGs from n_batch-8 set\n",
      "Using 392 HVGs from n_batch-9 set\n",
      "Using 375 HVGs from n_batch-10 set\n",
      "Using 2000 HVGs\n"
     ]
    },
    {
     "name": "stderr",
     "output_type": "stream",
     "text": [
      "c:\\Users\\lklei\\anaconda3\\envs\\acip\\lib\\site-packages\\scib\\preprocessing.py:616: DeprecationWarning: `in1d` is deprecated. Use `np.isin` instead.\n",
      "  adata.var[\"highly_variable\"] = np.in1d(adata.var_names, hvg_list)\n"
     ]
    },
    {
     "name": "stdout",
     "output_type": "stream",
     "text": [
      "Computed 2000 highly variable genes\n",
      "PCA\n"
     ]
    },
    {
     "name": "stderr",
     "output_type": "stream",
     "text": [
      "c:\\Users\\lklei\\anaconda3\\envs\\acip\\lib\\site-packages\\scanpy\\preprocessing\\_pca\\__init__.py:439: FutureWarning: Argument `use_highly_variable` is deprecated, consider using the mask argument. Use_highly_variable=True can be called through mask_var=\"highly_variable\". Use_highly_variable=False can be called through mask_var=None\n",
      "  warn(msg, FutureWarning)\n"
     ]
    },
    {
     "name": "stdout",
     "output_type": "stream",
     "text": [
      "Nearest Neigbours\n"
     ]
    },
    {
     "name": "stderr",
     "output_type": "stream",
     "text": [
      "c:\\Users\\lklei\\anaconda3\\envs\\acip\\lib\\site-packages\\tqdm\\auto.py:21: TqdmWarning: IProgress not found. Please update jupyter and ipywidgets. See https://ipywidgets.readthedocs.io/en/stable/user_install.html\n",
      "  from .autonotebook import tqdm as notebook_tqdm\n"
     ]
    },
    {
     "name": "stdout",
     "output_type": "stream",
     "text": [
      "Cluster for cluster_0.2 with leiden\n"
     ]
    },
    {
     "name": "stderr",
     "output_type": "stream",
     "text": [
      "c:\\Users\\lklei\\anaconda3\\envs\\acip\\lib\\site-packages\\scib\\metrics\\clustering.py:96: FutureWarning: In the future, the default backend for leiden will be igraph instead of leidenalg.\n",
      "\n",
      " To achieve the future defaults please pass: flavor=\"igraph\" and n_iterations=2.  directed must also be False to work with igraph's implementation.\n",
      "  cluster_function(adata, resolution=res, key_added=resolution_key, **kwargs)\n"
     ]
    },
    {
     "name": "stdout",
     "output_type": "stream",
     "text": [
      "resolution: 0.2, nmi: 0.8550294062697765\n",
      "Cluster for cluster_0.4 with leiden\n",
      "resolution: 0.4, nmi: 0.8309149450875044\n",
      "Cluster for cluster_0.6 with leiden\n",
      "resolution: 0.6, nmi: 0.8217241533944367\n",
      "Cluster for cluster_0.8 with leiden\n",
      "resolution: 0.8, nmi: 0.7973147512941755\n",
      "Cluster for cluster_1.0 with leiden\n",
      "resolution: 1.0, nmi: 0.7946207471120966\n",
      "Cluster for cluster_1.2 with leiden\n",
      "resolution: 1.2, nmi: 0.7858971826492686\n",
      "Cluster for cluster_1.4 with leiden\n",
      "resolution: 1.4, nmi: 0.7828115175738056\n",
      "Cluster for cluster_1.6 with leiden\n",
      "resolution: 1.6, nmi: 0.7760414597014232\n",
      "Cluster for cluster_1.8 with leiden\n",
      "resolution: 1.8, nmi: 0.7683854165646364\n",
      "Cluster for cluster_2.0 with leiden\n",
      "resolution: 2.0, nmi: 0.7548827629811241\n",
      "optimised clustering against cell_type\n",
      "optimal cluster resolution: 0.2\n",
      "optimal score: 0.8550294062697765\n"
     ]
    },
    {
     "data": {
      "text/plain": [
       "(0.2, np.float64(0.8550294062697765))"
      ]
     },
     "execution_count": 14,
     "metadata": {},
     "output_type": "execute_result"
    }
   ],
   "source": [
    "#Run PCA\n",
    "scib.pp.reduce_data(\n",
    "    integrated, n_top_genes=2000, batch_key=\"batch\", pca=True, neighbors=True\n",
    ")\n",
    "#Cluster PCA results\n",
    "scib.me.cluster_optimal_resolution(integrated, cluster_key=\"cluster\", label_key=\"cell_type\")"
   ]
  },
  {
   "cell_type": "markdown",
   "metadata": {},
   "source": [
    "## Bio Scores"
   ]
  },
  {
   "cell_type": "code",
   "execution_count": 15,
   "metadata": {},
   "outputs": [],
   "source": [
    "#--Scoring- Adjusted Rand Index\n",
    "ari = scib.me.ari(integrated, cluster_key=\"cluster\", label_key=\"cell_type\")"
   ]
  },
  {
   "cell_type": "code",
   "execution_count": 16,
   "metadata": {},
   "outputs": [
    {
     "name": "stderr",
     "output_type": "stream",
     "text": [
      "c:\\Users\\lklei\\anaconda3\\envs\\acip\\lib\\site-packages\\scib\\metrics\\highly_variable_genes.py:35: FutureWarning: Series.__getitem__ treating keys as positions is deprecated. In a future version, integer keys will always be treated as labels (consistent with DataFrame behavior). To access a value by position, use `ser.iloc[pos]`\n",
      "  hvg_dir[i.obs[batch][0]] = i.var.index[hvg[\"highly_variable\"]]\n",
      "c:\\Users\\lklei\\anaconda3\\envs\\acip\\lib\\site-packages\\scib\\metrics\\highly_variable_genes.py:35: FutureWarning: Series.__getitem__ treating keys as positions is deprecated. In a future version, integer keys will always be treated as labels (consistent with DataFrame behavior). To access a value by position, use `ser.iloc[pos]`\n",
      "  hvg_dir[i.obs[batch][0]] = i.var.index[hvg[\"highly_variable\"]]\n",
      "c:\\Users\\lklei\\anaconda3\\envs\\acip\\lib\\site-packages\\scib\\metrics\\highly_variable_genes.py:35: FutureWarning: Series.__getitem__ treating keys as positions is deprecated. In a future version, integer keys will always be treated as labels (consistent with DataFrame behavior). To access a value by position, use `ser.iloc[pos]`\n",
      "  hvg_dir[i.obs[batch][0]] = i.var.index[hvg[\"highly_variable\"]]\n",
      "c:\\Users\\lklei\\anaconda3\\envs\\acip\\lib\\site-packages\\scib\\metrics\\highly_variable_genes.py:35: FutureWarning: Series.__getitem__ treating keys as positions is deprecated. In a future version, integer keys will always be treated as labels (consistent with DataFrame behavior). To access a value by position, use `ser.iloc[pos]`\n",
      "  hvg_dir[i.obs[batch][0]] = i.var.index[hvg[\"highly_variable\"]]\n",
      "c:\\Users\\lklei\\anaconda3\\envs\\acip\\lib\\site-packages\\scib\\metrics\\highly_variable_genes.py:35: FutureWarning: Series.__getitem__ treating keys as positions is deprecated. In a future version, integer keys will always be treated as labels (consistent with DataFrame behavior). To access a value by position, use `ser.iloc[pos]`\n",
      "  hvg_dir[i.obs[batch][0]] = i.var.index[hvg[\"highly_variable\"]]\n",
      "c:\\Users\\lklei\\anaconda3\\envs\\acip\\lib\\site-packages\\scib\\metrics\\highly_variable_genes.py:35: FutureWarning: Series.__getitem__ treating keys as positions is deprecated. In a future version, integer keys will always be treated as labels (consistent with DataFrame behavior). To access a value by position, use `ser.iloc[pos]`\n",
      "  hvg_dir[i.obs[batch][0]] = i.var.index[hvg[\"highly_variable\"]]\n",
      "c:\\Users\\lklei\\anaconda3\\envs\\acip\\lib\\site-packages\\scib\\metrics\\highly_variable_genes.py:35: FutureWarning: Series.__getitem__ treating keys as positions is deprecated. In a future version, integer keys will always be treated as labels (consistent with DataFrame behavior). To access a value by position, use `ser.iloc[pos]`\n",
      "  hvg_dir[i.obs[batch][0]] = i.var.index[hvg[\"highly_variable\"]]\n",
      "c:\\Users\\lklei\\anaconda3\\envs\\acip\\lib\\site-packages\\scib\\metrics\\highly_variable_genes.py:35: FutureWarning: Series.__getitem__ treating keys as positions is deprecated. In a future version, integer keys will always be treated as labels (consistent with DataFrame behavior). To access a value by position, use `ser.iloc[pos]`\n",
      "  hvg_dir[i.obs[batch][0]] = i.var.index[hvg[\"highly_variable\"]]\n",
      "c:\\Users\\lklei\\anaconda3\\envs\\acip\\lib\\site-packages\\scib\\metrics\\highly_variable_genes.py:35: FutureWarning: Series.__getitem__ treating keys as positions is deprecated. In a future version, integer keys will always be treated as labels (consistent with DataFrame behavior). To access a value by position, use `ser.iloc[pos]`\n",
      "  hvg_dir[i.obs[batch][0]] = i.var.index[hvg[\"highly_variable\"]]\n",
      "c:\\Users\\lklei\\anaconda3\\envs\\acip\\lib\\site-packages\\scib\\metrics\\highly_variable_genes.py:35: FutureWarning: Series.__getitem__ treating keys as positions is deprecated. In a future version, integer keys will always be treated as labels (consistent with DataFrame behavior). To access a value by position, use `ser.iloc[pos]`\n",
      "  hvg_dir[i.obs[batch][0]] = i.var.index[hvg[\"highly_variable\"]]\n",
      "c:\\Users\\lklei\\anaconda3\\envs\\acip\\lib\\site-packages\\scib\\metrics\\highly_variable_genes.py:35: FutureWarning: Series.__getitem__ treating keys as positions is deprecated. In a future version, integer keys will always be treated as labels (consistent with DataFrame behavior). To access a value by position, use `ser.iloc[pos]`\n",
      "  hvg_dir[i.obs[batch][0]] = i.var.index[hvg[\"highly_variable\"]]\n",
      "c:\\Users\\lklei\\anaconda3\\envs\\acip\\lib\\site-packages\\scib\\metrics\\highly_variable_genes.py:35: FutureWarning: Series.__getitem__ treating keys as positions is deprecated. In a future version, integer keys will always be treated as labels (consistent with DataFrame behavior). To access a value by position, use `ser.iloc[pos]`\n",
      "  hvg_dir[i.obs[batch][0]] = i.var.index[hvg[\"highly_variable\"]]\n",
      "c:\\Users\\lklei\\anaconda3\\envs\\acip\\lib\\site-packages\\scib\\metrics\\highly_variable_genes.py:35: FutureWarning: Series.__getitem__ treating keys as positions is deprecated. In a future version, integer keys will always be treated as labels (consistent with DataFrame behavior). To access a value by position, use `ser.iloc[pos]`\n",
      "  hvg_dir[i.obs[batch][0]] = i.var.index[hvg[\"highly_variable\"]]\n",
      "c:\\Users\\lklei\\anaconda3\\envs\\acip\\lib\\site-packages\\scib\\metrics\\highly_variable_genes.py:35: FutureWarning: Series.__getitem__ treating keys as positions is deprecated. In a future version, integer keys will always be treated as labels (consistent with DataFrame behavior). To access a value by position, use `ser.iloc[pos]`\n",
      "  hvg_dir[i.obs[batch][0]] = i.var.index[hvg[\"highly_variable\"]]\n",
      "c:\\Users\\lklei\\anaconda3\\envs\\acip\\lib\\site-packages\\scib\\metrics\\highly_variable_genes.py:35: FutureWarning: Series.__getitem__ treating keys as positions is deprecated. In a future version, integer keys will always be treated as labels (consistent with DataFrame behavior). To access a value by position, use `ser.iloc[pos]`\n",
      "  hvg_dir[i.obs[batch][0]] = i.var.index[hvg[\"highly_variable\"]]\n",
      "c:\\Users\\lklei\\anaconda3\\envs\\acip\\lib\\site-packages\\scib\\metrics\\highly_variable_genes.py:35: FutureWarning: Series.__getitem__ treating keys as positions is deprecated. In a future version, integer keys will always be treated as labels (consistent with DataFrame behavior). To access a value by position, use `ser.iloc[pos]`\n",
      "  hvg_dir[i.obs[batch][0]] = i.var.index[hvg[\"highly_variable\"]]\n",
      "c:\\Users\\lklei\\anaconda3\\envs\\acip\\lib\\site-packages\\scib\\metrics\\highly_variable_genes.py:76: FutureWarning: Series.__getitem__ treating keys as positions is deprecated. In a future version, integer keys will always be treated as labels (consistent with DataFrame behavior). To access a value by position, use `ser.iloc[pos]`\n",
      "  batch_var = ad_post.obs[batch_key][0]\n",
      "c:\\Users\\lklei\\anaconda3\\envs\\acip\\lib\\site-packages\\scib\\metrics\\highly_variable_genes.py:76: FutureWarning: Series.__getitem__ treating keys as positions is deprecated. In a future version, integer keys will always be treated as labels (consistent with DataFrame behavior). To access a value by position, use `ser.iloc[pos]`\n",
      "  batch_var = ad_post.obs[batch_key][0]\n",
      "c:\\Users\\lklei\\anaconda3\\envs\\acip\\lib\\site-packages\\scib\\metrics\\highly_variable_genes.py:76: FutureWarning: Series.__getitem__ treating keys as positions is deprecated. In a future version, integer keys will always be treated as labels (consistent with DataFrame behavior). To access a value by position, use `ser.iloc[pos]`\n",
      "  batch_var = ad_post.obs[batch_key][0]\n",
      "c:\\Users\\lklei\\anaconda3\\envs\\acip\\lib\\site-packages\\scib\\metrics\\highly_variable_genes.py:76: FutureWarning: Series.__getitem__ treating keys as positions is deprecated. In a future version, integer keys will always be treated as labels (consistent with DataFrame behavior). To access a value by position, use `ser.iloc[pos]`\n",
      "  batch_var = ad_post.obs[batch_key][0]\n",
      "c:\\Users\\lklei\\anaconda3\\envs\\acip\\lib\\site-packages\\scib\\metrics\\highly_variable_genes.py:76: FutureWarning: Series.__getitem__ treating keys as positions is deprecated. In a future version, integer keys will always be treated as labels (consistent with DataFrame behavior). To access a value by position, use `ser.iloc[pos]`\n",
      "  batch_var = ad_post.obs[batch_key][0]\n",
      "c:\\Users\\lklei\\anaconda3\\envs\\acip\\lib\\site-packages\\scib\\metrics\\highly_variable_genes.py:76: FutureWarning: Series.__getitem__ treating keys as positions is deprecated. In a future version, integer keys will always be treated as labels (consistent with DataFrame behavior). To access a value by position, use `ser.iloc[pos]`\n",
      "  batch_var = ad_post.obs[batch_key][0]\n",
      "c:\\Users\\lklei\\anaconda3\\envs\\acip\\lib\\site-packages\\scib\\metrics\\highly_variable_genes.py:76: FutureWarning: Series.__getitem__ treating keys as positions is deprecated. In a future version, integer keys will always be treated as labels (consistent with DataFrame behavior). To access a value by position, use `ser.iloc[pos]`\n",
      "  batch_var = ad_post.obs[batch_key][0]\n",
      "c:\\Users\\lklei\\anaconda3\\envs\\acip\\lib\\site-packages\\scib\\metrics\\highly_variable_genes.py:76: FutureWarning: Series.__getitem__ treating keys as positions is deprecated. In a future version, integer keys will always be treated as labels (consistent with DataFrame behavior). To access a value by position, use `ser.iloc[pos]`\n",
      "  batch_var = ad_post.obs[batch_key][0]\n",
      "c:\\Users\\lklei\\anaconda3\\envs\\acip\\lib\\site-packages\\scib\\metrics\\highly_variable_genes.py:76: FutureWarning: Series.__getitem__ treating keys as positions is deprecated. In a future version, integer keys will always be treated as labels (consistent with DataFrame behavior). To access a value by position, use `ser.iloc[pos]`\n",
      "  batch_var = ad_post.obs[batch_key][0]\n",
      "c:\\Users\\lklei\\anaconda3\\envs\\acip\\lib\\site-packages\\scib\\metrics\\highly_variable_genes.py:76: FutureWarning: Series.__getitem__ treating keys as positions is deprecated. In a future version, integer keys will always be treated as labels (consistent with DataFrame behavior). To access a value by position, use `ser.iloc[pos]`\n",
      "  batch_var = ad_post.obs[batch_key][0]\n",
      "c:\\Users\\lklei\\anaconda3\\envs\\acip\\lib\\site-packages\\scib\\metrics\\highly_variable_genes.py:76: FutureWarning: Series.__getitem__ treating keys as positions is deprecated. In a future version, integer keys will always be treated as labels (consistent with DataFrame behavior). To access a value by position, use `ser.iloc[pos]`\n",
      "  batch_var = ad_post.obs[batch_key][0]\n",
      "c:\\Users\\lklei\\anaconda3\\envs\\acip\\lib\\site-packages\\scib\\metrics\\highly_variable_genes.py:76: FutureWarning: Series.__getitem__ treating keys as positions is deprecated. In a future version, integer keys will always be treated as labels (consistent with DataFrame behavior). To access a value by position, use `ser.iloc[pos]`\n",
      "  batch_var = ad_post.obs[batch_key][0]\n",
      "c:\\Users\\lklei\\anaconda3\\envs\\acip\\lib\\site-packages\\scib\\metrics\\highly_variable_genes.py:76: FutureWarning: Series.__getitem__ treating keys as positions is deprecated. In a future version, integer keys will always be treated as labels (consistent with DataFrame behavior). To access a value by position, use `ser.iloc[pos]`\n",
      "  batch_var = ad_post.obs[batch_key][0]\n",
      "c:\\Users\\lklei\\anaconda3\\envs\\acip\\lib\\site-packages\\scib\\metrics\\highly_variable_genes.py:76: FutureWarning: Series.__getitem__ treating keys as positions is deprecated. In a future version, integer keys will always be treated as labels (consistent with DataFrame behavior). To access a value by position, use `ser.iloc[pos]`\n",
      "  batch_var = ad_post.obs[batch_key][0]\n",
      "c:\\Users\\lklei\\anaconda3\\envs\\acip\\lib\\site-packages\\scib\\metrics\\highly_variable_genes.py:76: FutureWarning: Series.__getitem__ treating keys as positions is deprecated. In a future version, integer keys will always be treated as labels (consistent with DataFrame behavior). To access a value by position, use `ser.iloc[pos]`\n",
      "  batch_var = ad_post.obs[batch_key][0]\n",
      "c:\\Users\\lklei\\anaconda3\\envs\\acip\\lib\\site-packages\\scib\\metrics\\highly_variable_genes.py:76: FutureWarning: Series.__getitem__ treating keys as positions is deprecated. In a future version, integer keys will always be treated as labels (consistent with DataFrame behavior). To access a value by position, use `ser.iloc[pos]`\n",
      "  batch_var = ad_post.obs[batch_key][0]\n"
     ]
    },
    {
     "data": {
      "text/plain": [
       "np.float64(0.27425)"
      ]
     },
     "execution_count": 16,
     "metadata": {},
     "output_type": "execute_result"
    }
   ],
   "source": [
    "#--Scoring-- HVG overlap\n",
    "scib.me.hvg_overlap(adata, integrated, batch_key=batch_key)"
   ]
  },
  {
   "cell_type": "code",
   "execution_count": 17,
   "metadata": {},
   "outputs": [
    {
     "name": "stderr",
     "output_type": "stream",
     "text": [
      "c:\\Users\\lklei\\anaconda3\\envs\\acip\\lib\\site-packages\\scib\\metrics\\isolated_labels.py:311: FutureWarning: The default of observed=False is deprecated and will be changed to True in a future version of pandas. Pass observed=False to retain current behavior or observed=True to adopt the future default and silence this warning.\n",
      "  batch_per_lab = tmp.groupby(label_key).agg({batch_key: \"count\"})\n"
     ]
    },
    {
     "name": "stdout",
     "output_type": "stream",
     "text": [
      "isolated labels: no more than 4 batches per label\n",
      "isolated labels: ['Type 1']\n",
      "Type 1: 0.720223069190979\n"
     ]
    },
    {
     "data": {
      "text/plain": [
       "np.float32(0.72022307)"
      ]
     },
     "execution_count": 17,
     "metadata": {},
     "output_type": "execute_result"
    }
   ],
   "source": [
    "#--Scoring-- isolated_labels_asw\n",
    "scib.me.isolated_labels_asw(integrated, label_key=label_key, batch_key=batch_key, embed=\"X_pca\")"
   ]
  },
  {
   "cell_type": "code",
   "execution_count": 18,
   "metadata": {},
   "outputs": [
    {
     "name": "stdout",
     "output_type": "stream",
     "text": [
      "isolated labels: no more than 4 batches per label\n",
      "isolated labels: ['Type 1']\n"
     ]
    },
    {
     "name": "stderr",
     "output_type": "stream",
     "text": [
      "c:\\Users\\lklei\\anaconda3\\envs\\acip\\lib\\site-packages\\scib\\metrics\\isolated_labels.py:311: FutureWarning: The default of observed=False is deprecated and will be changed to True in a future version of pandas. Pass observed=False to retain current behavior or observed=True to adopt the future default and silence this warning.\n",
      "  batch_per_lab = tmp.groupby(label_key).agg({batch_key: \"count\"})\n"
     ]
    },
    {
     "name": "stdout",
     "output_type": "stream",
     "text": [
      "Cluster for iso_label_0.2 with leiden\n",
      "resolution: 0.2, max_f1: 0.9807692307692307\n",
      "Cluster for iso_label_0.4 with leiden\n",
      "resolution: 0.4, max_f1: 0.9807692307692307\n",
      "Cluster for iso_label_0.6 with leiden\n",
      "resolution: 0.6, max_f1: 0.9807692307692307\n",
      "Cluster for iso_label_0.8 with leiden\n",
      "resolution: 0.8, max_f1: 0.9807692307692307\n",
      "Cluster for iso_label_1.0 with leiden\n",
      "resolution: 1.0, max_f1: 0.9807692307692307\n",
      "Cluster for iso_label_1.2 with leiden\n",
      "resolution: 1.2, max_f1: 0.9807692307692307\n",
      "Cluster for iso_label_1.4 with leiden\n",
      "resolution: 1.4, max_f1: 0.9169859514687101\n",
      "Cluster for iso_label_1.6 with leiden\n",
      "resolution: 1.6, max_f1: 0.9169859514687101\n",
      "Cluster for iso_label_1.8 with leiden\n",
      "resolution: 1.8, max_f1: 0.9169859514687101\n",
      "Cluster for iso_label_2.0 with leiden\n",
      "resolution: 2.0, max_f1: 0.9169859514687101\n",
      "optimised clustering against cell_type\n",
      "optimal cluster resolution: 0.2\n",
      "optimal score: 0.9807692307692307\n",
      "Type 1: 0.9807692307692307\n"
     ]
    },
    {
     "data": {
      "text/plain": [
       "np.float64(0.9807692307692307)"
      ]
     },
     "execution_count": 18,
     "metadata": {},
     "output_type": "execute_result"
    }
   ],
   "source": [
    "#--Scoring-- isolated_labels_f1\n",
    "scib.me.isolated_labels_f1(integrated, label_key=label_key, batch_key=batch_key, embed=\"X_pca\")"
   ]
  },
  {
   "cell_type": "code",
   "execution_count": 19,
   "metadata": {},
   "outputs": [
    {
     "data": {
      "text/plain": [
       "np.float64(0.8550294062697765)"
      ]
     },
     "execution_count": 19,
     "metadata": {},
     "output_type": "execute_result"
    }
   ],
   "source": [
    "#--Scoring-- Normalized mutual information\n",
    "scib.me.nmi(integrated, cluster_key=\"cluster\", label_key=label_key)"
   ]
  },
  {
   "cell_type": "code",
   "execution_count": 20,
   "metadata": {},
   "outputs": [
    {
     "data": {
      "text/plain": [
       "np.float32(0.6707504)"
      ]
     },
     "execution_count": 20,
     "metadata": {},
     "output_type": "execute_result"
    }
   ],
   "source": [
    "#--Scoring-- Average silhouette width (ASW)\n",
    "scib.me.silhouette(integrated, label_key=label_key, embed=\"X_pca\")"
   ]
  },
  {
   "cell_type": "markdown",
   "metadata": {},
   "source": [
    "## Batch Scores"
   ]
  },
  {
   "cell_type": "code",
   "execution_count": 21,
   "metadata": {},
   "outputs": [
    {
     "name": "stderr",
     "output_type": "stream",
     "text": [
      "c:\\Users\\lklei\\anaconda3\\envs\\acip\\lib\\site-packages\\scib\\metrics\\graph_connectivity.py:56: FutureWarning: pandas.value_counts is deprecated and will be removed in a future version. Use pd.Series(obj).value_counts() instead.\n",
      "  tab = pd.value_counts(labels)\n",
      "c:\\Users\\lklei\\anaconda3\\envs\\acip\\lib\\site-packages\\scib\\metrics\\graph_connectivity.py:56: FutureWarning: pandas.value_counts is deprecated and will be removed in a future version. Use pd.Series(obj).value_counts() instead.\n",
      "  tab = pd.value_counts(labels)\n",
      "c:\\Users\\lklei\\anaconda3\\envs\\acip\\lib\\site-packages\\scib\\metrics\\graph_connectivity.py:56: FutureWarning: pandas.value_counts is deprecated and will be removed in a future version. Use pd.Series(obj).value_counts() instead.\n",
      "  tab = pd.value_counts(labels)\n",
      "c:\\Users\\lklei\\anaconda3\\envs\\acip\\lib\\site-packages\\scib\\metrics\\graph_connectivity.py:56: FutureWarning: pandas.value_counts is deprecated and will be removed in a future version. Use pd.Series(obj).value_counts() instead.\n",
      "  tab = pd.value_counts(labels)\n",
      "c:\\Users\\lklei\\anaconda3\\envs\\acip\\lib\\site-packages\\scib\\metrics\\graph_connectivity.py:56: FutureWarning: pandas.value_counts is deprecated and will be removed in a future version. Use pd.Series(obj).value_counts() instead.\n",
      "  tab = pd.value_counts(labels)\n",
      "c:\\Users\\lklei\\anaconda3\\envs\\acip\\lib\\site-packages\\scib\\metrics\\graph_connectivity.py:56: FutureWarning: pandas.value_counts is deprecated and will be removed in a future version. Use pd.Series(obj).value_counts() instead.\n",
      "  tab = pd.value_counts(labels)\n",
      "c:\\Users\\lklei\\anaconda3\\envs\\acip\\lib\\site-packages\\scib\\metrics\\graph_connectivity.py:56: FutureWarning: pandas.value_counts is deprecated and will be removed in a future version. Use pd.Series(obj).value_counts() instead.\n",
      "  tab = pd.value_counts(labels)\n",
      "c:\\Users\\lklei\\anaconda3\\envs\\acip\\lib\\site-packages\\scib\\metrics\\graph_connectivity.py:56: FutureWarning: pandas.value_counts is deprecated and will be removed in a future version. Use pd.Series(obj).value_counts() instead.\n",
      "  tab = pd.value_counts(labels)\n",
      "c:\\Users\\lklei\\anaconda3\\envs\\acip\\lib\\site-packages\\scib\\metrics\\graph_connectivity.py:56: FutureWarning: pandas.value_counts is deprecated and will be removed in a future version. Use pd.Series(obj).value_counts() instead.\n",
      "  tab = pd.value_counts(labels)\n",
      "c:\\Users\\lklei\\anaconda3\\envs\\acip\\lib\\site-packages\\scib\\metrics\\graph_connectivity.py:56: FutureWarning: pandas.value_counts is deprecated and will be removed in a future version. Use pd.Series(obj).value_counts() instead.\n",
      "  tab = pd.value_counts(labels)\n",
      "c:\\Users\\lklei\\anaconda3\\envs\\acip\\lib\\site-packages\\scib\\metrics\\graph_connectivity.py:56: FutureWarning: pandas.value_counts is deprecated and will be removed in a future version. Use pd.Series(obj).value_counts() instead.\n",
      "  tab = pd.value_counts(labels)\n",
      "c:\\Users\\lklei\\anaconda3\\envs\\acip\\lib\\site-packages\\scib\\metrics\\graph_connectivity.py:56: FutureWarning: pandas.value_counts is deprecated and will be removed in a future version. Use pd.Series(obj).value_counts() instead.\n",
      "  tab = pd.value_counts(labels)\n",
      "c:\\Users\\lklei\\anaconda3\\envs\\acip\\lib\\site-packages\\scib\\metrics\\graph_connectivity.py:56: FutureWarning: pandas.value_counts is deprecated and will be removed in a future version. Use pd.Series(obj).value_counts() instead.\n",
      "  tab = pd.value_counts(labels)\n",
      "c:\\Users\\lklei\\anaconda3\\envs\\acip\\lib\\site-packages\\scib\\metrics\\graph_connectivity.py:56: FutureWarning: pandas.value_counts is deprecated and will be removed in a future version. Use pd.Series(obj).value_counts() instead.\n",
      "  tab = pd.value_counts(labels)\n",
      "c:\\Users\\lklei\\anaconda3\\envs\\acip\\lib\\site-packages\\scib\\metrics\\graph_connectivity.py:56: FutureWarning: pandas.value_counts is deprecated and will be removed in a future version. Use pd.Series(obj).value_counts() instead.\n",
      "  tab = pd.value_counts(labels)\n",
      "c:\\Users\\lklei\\anaconda3\\envs\\acip\\lib\\site-packages\\scib\\metrics\\graph_connectivity.py:56: FutureWarning: pandas.value_counts is deprecated and will be removed in a future version. Use pd.Series(obj).value_counts() instead.\n",
      "  tab = pd.value_counts(labels)\n",
      "c:\\Users\\lklei\\anaconda3\\envs\\acip\\lib\\site-packages\\scib\\metrics\\graph_connectivity.py:56: FutureWarning: pandas.value_counts is deprecated and will be removed in a future version. Use pd.Series(obj).value_counts() instead.\n",
      "  tab = pd.value_counts(labels)\n"
     ]
    },
    {
     "data": {
      "text/plain": [
       "np.float64(0.8192846688120957)"
      ]
     },
     "execution_count": 21,
     "metadata": {},
     "output_type": "execute_result"
    }
   ],
   "source": [
    "#--Scoring-- Graph Connectivity\n",
    "scib.me.graph_connectivity(integrated, label_key=label_key)"
   ]
  },
  {
   "cell_type": "code",
   "execution_count": 22,
   "metadata": {},
   "outputs": [
    {
     "name": "stderr",
     "output_type": "stream",
     "text": [
      "c:\\Users\\lklei\\anaconda3\\envs\\acip\\lib\\site-packages\\scanpy\\preprocessing\\_pca\\__init__.py:439: FutureWarning: Argument `use_highly_variable` is deprecated, consider using the mask argument. Use_highly_variable=True can be called through mask_var=\"highly_variable\". Use_highly_variable=False can be called through mask_var=None\n",
      "  warn(msg, FutureWarning)\n"
     ]
    },
    {
     "data": {
      "text/plain": [
       "np.float64(0.4042807023847575)"
      ]
     },
     "execution_count": 22,
     "metadata": {},
     "output_type": "execute_result"
    }
   ],
   "source": [
    "#--Scoring-- Principal component regression score\n",
    "scib.me.pcr_comparison(adata, integrated, covariate=batch_key)"
   ]
  },
  {
   "cell_type": "code",
   "execution_count": 23,
   "metadata": {},
   "outputs": [
    {
     "name": "stdout",
     "output_type": "stream",
     "text": [
      "mean silhouette per group:                       silhouette_score\n",
      "group                                 \n",
      "B cell                        0.722553\n",
      "Basal 1                       0.943175\n",
      "Basal 2                       0.897476\n",
      "Ciliated                      0.901132\n",
      "Dendritic cell                0.871875\n",
      "Endothelium                   0.785268\n",
      "Fibroblast                    0.863059\n",
      "Ionocytes                     0.879514\n",
      "Lymphatic                     0.894922\n",
      "Macrophage                    0.820509\n",
      "Mast cell                     0.761217\n",
      "Neutrophil_CD14_high          0.880672\n",
      "Neutrophils_IL1R2             0.890685\n",
      "Secretory                     0.865062\n",
      "T/NK cell                     0.813649\n",
      "Type 1                        0.852086\n",
      "Type 2                        0.850254\n"
     ]
    },
    {
     "data": {
      "text/plain": [
       "np.float32(0.8525357)"
      ]
     },
     "execution_count": 23,
     "metadata": {},
     "output_type": "execute_result"
    }
   ],
   "source": [
    "#--Scoring-- Modified average silhouette width (ASW) of batch\n",
    "scib.me.silhouette_batch(integrated, batch_key=batch_key, label_key=label_key, embed=\"X_pca\")"
   ]
  },
  {
   "cell_type": "markdown",
   "metadata": {},
   "source": [
    "## Aggregator function"
   ]
  },
  {
   "cell_type": "code",
   "execution_count": null,
   "metadata": {},
   "outputs": [],
   "source": [
    "def Scoring(adata, integrated, batch_key, label_key, n_top_genes):\n",
    "  \n",
    "    #--Preprocessing--\n",
    "    #Run PCA\n",
    "    if n_top_genes == True:\n",
    "        scib.pp.reduce_data(\n",
    "            integrated, n_top_genes=2000, batch_key=\"batch\", pca=True, neighbors=True\n",
    "        )\n",
    "    elif n_top_genes == False:\n",
    "          scib.pp.reduce_data(\n",
    "            integrated, batch_key=\"batch\", pca=True, neighbors=True\n",
    "        )    \n",
    "          \n",
    "    #Cluster PCA results\n",
    "    scib.me.cluster_optimal_resolution(integrated, cluster_key=\"cluster\", label_key=label_key)\n",
    "\n",
    "    #--Bio Scores--\n",
    "\n",
    "    #Adjusted Rand Index\n",
    "    ari = scib.me.ari(integrated, cluster_key=\"cluster\", label_key=label_key)\n",
    "\n",
    "    #HVG overlap\n",
    "    hvg = scib.me.hvg_overlap(adata, integrated, batch_key=batch_key)\n",
    "\n",
    "    #isolated_labels_asw\n",
    "    asw = scib.me.isolated_labels_asw(integrated, label_key=label_key, batch_key=batch_key, embed=\"X_pca\")\n",
    "\n",
    "    #isolated_labels_f1\n",
    "    f1 = scib.me.isolated_labels_f1(integrated, label_key=label_key, batch_key=batch_key, embed=\"X_pca\")\n",
    "\n",
    "    #Normalized mutual information\n",
    "    nmi = scib.me.nmi(integrated, cluster_key=\"cluster\", label_key=label_key)\n",
    "\n",
    "    #Average silhouette width (ASW)\n",
    "    sil= scib.me.silhouette(integrated, label_key=label_key, embed=\"X_pca\")\n",
    "\n",
    "    #--Cluster Scores--\n",
    "\n",
    "    #Graph Connectivity\n",
    "    graph = scib.me.graph_connectivity(integrated, label_key=label_key)\n",
    "\n",
    "    #Principal component regression score\n",
    "    pcr = scib.me.pcr_comparison(adata, integrated, covariate=batch_key)\n",
    "\n",
    "    # Modified average silhouette width (ASW) of batch\n",
    "    sil_batch = scib.me.silhouette_batch(integrated, batch_key=batch_key, label_key=label_key, embed=\"X_pca\")\n",
    "\n",
    "    avg_bio = (ari+hvg+asw+f1+nmi+sil)/6\n",
    "    avg_batch =(graph+pcr+sil_batch)/3\n",
    "\n",
    "    Scores = pd.DataFrame({\n",
    "        'ari': ari,\n",
    "        'hvg': hvg,\n",
    "        'asw': asw,\n",
    "        'f1': f1,\n",
    "        'nmi': nmi,\n",
    "        'sil': sil,\n",
    "        'graph': graph,\n",
    "        'pcr': pcr,\n",
    "        'sil_batch': sil_batch,\n",
    "        'avg_bio': avg_bio,\n",
    "        'avg_batch': avg_batch\n",
    "        })\n",
    "    return Scores"
   ]
  },
  {
   "cell_type": "code",
   "execution_count": null,
   "metadata": {},
   "outputs": [],
   "source": [
    "Scores = Scoring(adata, integrated, batch_key, label_key, True)"
   ]
  },
  {
   "cell_type": "markdown",
   "metadata": {},
   "source": [
    "## Testing Integrators"
   ]
  },
  {
   "cell_type": "code",
   "execution_count": null,
   "metadata": {},
   "outputs": [],
   "source": []
  },
  {
   "cell_type": "code",
   "execution_count": null,
   "metadata": {},
   "outputs": [],
   "source": []
  }
 ],
 "metadata": {
  "kernelspec": {
   "display_name": "acip",
   "language": "python",
   "name": "python3"
  },
  "language_info": {
   "codemirror_mode": {
    "name": "ipython",
    "version": 3
   },
   "file_extension": ".py",
   "mimetype": "text/x-python",
   "name": "python",
   "nbconvert_exporter": "python",
   "pygments_lexer": "ipython3",
   "version": "3.10.16"
  }
 },
 "nbformat": 4,
 "nbformat_minor": 2
}
